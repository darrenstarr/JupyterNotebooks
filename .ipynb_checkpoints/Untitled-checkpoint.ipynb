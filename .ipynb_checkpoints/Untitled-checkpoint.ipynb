{
 "cells": [
  {
   "cell_type": "markdown",
   "metadata": {},
   "source": [
    "https://www.geogebra.org/classic/f6s6cshn"
   ]
  },
  {
   "cell_type": "markdown",
   "metadata": {},
   "source": [
    "## Calculate one side of an inscribed pentagon\n",
    "\n",
    "Use a unit circle\n",
    "\n",
    "$\\overline{AD} = 1$\n",
    "\n",
    "Bisect $\\overline{AB}$ as point $C$\n",
    "\n",
    "$\\overline{AC} = \\frac{1}{2}$\n",
    "\n",
    "Calculate the length of $\\overline{CD}$\n",
    "\n",
    "$\\overline{CD} = \\sqrt{\\overline{AD}^2 + \\overline{AC}^2}$\n",
    "\n",
    "$\\overline{CD} = \\sqrt{1^2+\\frac{1}{2}^2} = \\sqrt{1 + \\frac{1^2}{2^2}} = \\sqrt{1+\\frac{1}{4}} = \\sqrt{\\frac{5}{4}} = \\frac{\\sqrt{5}}{\\sqrt{4}} = \\frac{\\sqrt{5}}{2}$\n",
    "\n",
    "Draw circle at point $C$ with radius $\\overline{CD}$. Mark the overlapping x-axis intersect as $E$\n",
    "\n",
    "$\\overline{CE} = \\overline{CD}$\n",
    "\n",
    "The length of $\\overline{AE}$ is $\\overline{CE}$ less half the radius of the unit circle.\n",
    "\n",
    "$\\overline{AE} = \\overline{CE} - \\overline{AC}$\n",
    "\n",
    "$\\overline{AE} = \\frac{\\sqrt{5}}{2} - \\frac{1}{2} = \\frac{\\sqrt{5} - 1}{2} $\n",
    "\n",
    "Draw a circle with radius $\\overline{AE}$ at point $B$ (the $0^\\circ$ intersect of the unit circle). Mark the intersection of the two circles in the positive Y direction as point $F$ and mark the negative Y as point $G$.\n",
    "\n",
    "$\\overline{AF} = 1$\n",
    "\n",
    "Draw a line segment connecting point $F$ and $G$ and mark the intersection of the x-axis as point $H$\n",
    "\n",
    "A pentagon will divide a circle in 5 equal pieces. This means an angle of $72^\\circ$ or $\\frac{2\\pi}{5}$. Since we're calculating only half of one piece, this will mean $\\frac{2\\pi}{10}$ instead.\n",
    "\n",
    "Now calculate for line segment $\\overline{FH}$ for the angle $\\frac{2\\pi}{10}$.\n",
    "\n",
    "$\\sin{\\angle{FAH}} = \\frac{\\overline{FH}}{\\overline{AF}}$\n",
    "\n",
    "$\\angle{FAH} = \\frac{2\\pi}{10} = \\frac{\\pi}{5}$\n",
    "\n",
    "$\\overline{FH} = \\overline{AF}\\sin{\\angle{FAH}}$\n",
    "\n",
    "$\\overline{FH}=1\\sin{\\frac{\\pi}{5}}$\n",
    "\n",
    "$\\overline{FH} = \\sqrt{\\frac{5}{8}-\\frac{\\sqrt{5}}{8}}$ or $\\sin{\\frac{\\pi}{5}}$"
   ]
  },
  {
   "cell_type": "markdown",
   "metadata": {},
   "source": [
    "## Prove by working backwards\n",
    "\n",
    "Draw a line segment for $\\overline{BF}$. Points $A$, $B$, and $F$ form an isosceles triangle along along the border of the unit circle. \n",
    "\n",
    "$\\pi = \\angle{FAB}+\\angle{ABF}+\\angle{BFA}$\n",
    "\n",
    "As expecteded from a pentagon, the triangle for angle $\\angle{FAB}$ should be $\\frac{\\pi}{5}$ and therefore the remaining two angles should each be $\\frac{2\\pi}{5}$\n",
    "\n",
    "$\\pi = \\frac{\\pi}{5} + 2\\angle{ABF}$\n",
    "\n",
    "$2\\angle{ABF} = \\pi - \\frac{\\pi}{5}$\n",
    "\n",
    "$2\\angle{ABF} = \\frac{5\\pi}{5} - \\frac{\\pi}{5}$\n",
    "\n",
    "$2\\angle{ABF} = \\frac{4\\pi}{5}$\n",
    "\n",
    "$\\angle{ABF} = \\frac{2\\pi}{5}$\n",
    "\n",
    "The length of $\\overline{BF}$ is formed from the circle drawn earlier using the length $\\overline{AE}$\n",
    "\n",
    "$\\overline{BF} = \\overline{AE}$\n",
    "\n",
    "$\\overline{BF} = \\frac{\\sqrt{5} - 1}{2}$\n",
    "\n",
    "Now calculate for angle $\\angle{ABF}$ and a hypoteneus length of $\\frac{\\sqrt{5} - 1}{2}$ the length of the opposite side $\\overline{FH}$. \n",
    "\n",
    "$\\sin{\\angle{ABF}} = \\frac{\\overline{FH}}{\\overline{BF}}$\n",
    "\n",
    "$\\overline{FH} = \\overline{BF}\\sin{\\angle{ABF}}$\n",
    "\n",
    "$\\overline{FH} = \\frac{\\sqrt{5} - 1}{2}\\sin{\\frac{2\\pi}{5}}$\n",
    "\n",
    "$\\overline{FH} = \\frac{\\sqrt{5} - 1}{2}\\sqrt{\\frac{5}{8}+\\frac{\\sqrt{5}}{8}}$ or $\\frac{\\sqrt{5} - 1}{2}\\sin{\\frac{2\\pi}{5}}$"
   ]
  },
  {
   "cell_type": "markdown",
   "metadata": {},
   "source": [
    "## Comparing the results\n",
    "\n",
    "In order for our results to be true, the following must be true.\n",
    "\n",
    "$\\frac{\\sqrt{5} - 1}{2}\\sqrt{\\frac{5}{8}+\\frac{\\sqrt{5}}{8}} = \\sqrt{\\frac{5}{8}-\\frac{\\sqrt{5}}{8}}$\n",
    "\n",
    "or\n",
    "\n",
    "$\\frac{\\sqrt{5} - 1}{2}\n",
    "=\\frac{\\sqrt{\\frac{5}{8}+\\frac{\\sqrt{5}}{8}}}{\\sqrt{\\frac{5}{8}-\\frac{\\sqrt{5}}{8}}}\n",
    "=\\frac{\\sqrt{5+\\sqrt{5}}}{\\sqrt{5-\\sqrt{5}}}\n",
    "=\\sqrt{\\frac{5+\\sqrt{5}}{5-\\sqrt{5}}}\\\\\n",
    "=\\sqrt{\\frac{(5-\\sqrt{5})(5-\\sqrt{5})}{(5+\\sqrt{5})(5-\\sqrt{5})}}\n",
    "=\\frac{\\sqrt{(5-\\sqrt{5})^2}}{\\sqrt{(5+\\sqrt{5})(5-\\sqrt{5})}}\n",
    "=\\frac{5-\\sqrt{5}}{\\sqrt{(5+\\sqrt{5})(5-\\sqrt{5})}}\n",
    "=\\frac{5-\\sqrt{5}}{\\sqrt{25+5\\sqrt(5)-5\\sqrt(5)-5}}\\\\\n",
    "=\\frac{5-\\sqrt{5}}{\\sqrt{20}}\n",
    "=\\frac{5-\\sqrt{5}}{\\sqrt{4(5)}}\n",
    "=\\frac{5-\\sqrt{5}}{2\\sqrt{5}}\n",
    "=\\frac{5\\sqrt{5}-5}{2(5)}\n",
    "=\\frac{\\sqrt{5}-1}{2}\n",
    "$\n",
    "\n",
    "So as you can see, whether from the original circle with a $36^\\circ$ angle or from within the circle with a corresponding $72^\\circ$ angle, the distance from point $F$ to point $H$ is the same. Therefore, the radius described by $\\overline{AE}$ correctly produces the intersection points for an inscribed pentagon."
   ]
  },
  {
   "cell_type": "markdown",
   "metadata": {},
   "source": [
    "## Intution\n",
    "\n",
    "Consider a unit circle (circle with radius 1, named $c$ in this proof).\n",
    "\n",
    "A regular pentagon is an equalateral 5 sided polygon. As such, from the center of a circle, it is constructed of 5 equal isosceles triangles.\n",
    "\n"
   ]
  }
 ],
 "metadata": {
  "kernelspec": {
   "display_name": "Python 3",
   "language": "python",
   "name": "python3"
  },
  "language_info": {
   "codemirror_mode": {
    "name": "ipython",
    "version": 3
   },
   "file_extension": ".py",
   "mimetype": "text/x-python",
   "name": "python",
   "nbconvert_exporter": "python",
   "pygments_lexer": "ipython3",
   "version": "3.7.6"
  }
 },
 "nbformat": 4,
 "nbformat_minor": 4
}
