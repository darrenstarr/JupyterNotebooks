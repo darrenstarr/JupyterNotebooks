{
 "cells": [
  {
   "cell_type": "markdown",
   "metadata": {},
   "source": [
    "# Euclid - The Game Question 12\n",
    "\n",
    "by Darren R. Starr\n",
    "\n",
    "The content of this document refers to [Euclid: The Game - Level 12](https://kasperpeulen.github.io/Level12/)\n",
    "\n",
    "Please don't use this to cheat. Instead, use this document to understand."
   ]
  },
  {
   "cell_type": "markdown",
   "metadata": {},
   "source": [
    "## Introduction\n",
    "\n",
    "Level 12 is misleading. And it took me a lot longer to solve than I care to admit. It's not a trick question, it's just a tricky question :)"
   ]
  },
  {
   "cell_type": "markdown",
   "metadata": {},
   "source": [
    "Let's start with an exhaggerated version of the problem.\n",
    "\n",
    "![Starting Point](assets/images/euclidthegame/level12_1.png \"Starting Point\")\n",
    "\n",
    "We want to replicate the angle $\\angle{BAC}$ where point $D$ becomes the new $A$\n",
    "\n",
    "To do this, we need to find the angle of $\\angle{BAC}$ using the limited set of tools available.\n",
    "\n",
    "![The solution](assets/images/euclidthegame/level12_2.png \"The solution\")\n",
    "\n",
    "Making a circle with center $A$ and radius $\\overline{AC}$ and then copying it to point $D'$ and marking the intersection as C' makes it so $\\overline{AC}=\\overline{DC'}$\n",
    "\n",
    "Mark the intersection of the original circle on segment $\\overline{AC}$ as $E$. This will allow us to measure the distance along the circumference of the circle to the other line.\n",
    "\n",
    "Now, draw a circle with a center of point $C$ with a radius of $\\overline{CE}$.\n",
    "\n",
    "Copy the circle to point $C'$ and the intersection with the first copied circle with be a perfect representation of point $E$ in the new location. Mark this as point $E'$\n",
    "\n",
    "Draw a segment from $D$ to $E'$ to finish reproducing the angle."
   ]
  }
 ],
 "metadata": {
  "kernelspec": {
   "display_name": "Python 3",
   "language": "python",
   "name": "python3"
  },
  "language_info": {
   "codemirror_mode": {
    "name": "ipython",
    "version": 3
   },
   "file_extension": ".py",
   "mimetype": "text/x-python",
   "name": "python",
   "nbconvert_exporter": "python",
   "pygments_lexer": "ipython3",
   "version": "3.7.6"
  }
 },
 "nbformat": 4,
 "nbformat_minor": 4
}
