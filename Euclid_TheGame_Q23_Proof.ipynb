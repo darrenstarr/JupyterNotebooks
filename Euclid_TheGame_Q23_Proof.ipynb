{
 "cells": [
  {
   "cell_type": "markdown",
   "metadata": {},
   "source": [
    "# Proof of Euclid - The Game Question 23\n",
    "\n",
    "by Darren R. Starr"
   ]
  },
  {
   "cell_type": "markdown",
   "metadata": {},
   "source": [
    "Consider a unit circle (circle with radius 1, named $c$ in this proof).\n",
    "\n",
    "A regular pentagon is an equalateral 5 sided polygon. As such, from the center of a circle, it is constructed of 5 equal isosceles triangles.\n",
    "\n",
    "![Pentagon inscribed within unit circle](assets/images/euclidthegame/intuition_1.png \"Pentagon inscribed within unit circle\")\n",
    "\n",
    "Since the triangles equally divide the circle 5 times, the interior angle of a single triangle from the center of the circle is $72^\\circ$ or $\\frac{2\\pi}{5}$."
   ]
  },
  {
   "cell_type": "markdown",
   "metadata": {},
   "source": [
    "If a new triangle is constructed from the circle's positive x-axis intercept (point $B$) to point $C$, a new isosceles triangle is formed. This new triangle has an interior angle from the circle's radius ($\\angle{BAC}$) of $36^\\circ$ or $\\frac{2\\pi}{10}$.\n",
    "\n",
    "![Triangle of a tenth of the circle.](assets/images/euclidthegame/intuition_2.png \"Triangle of a tenth of the circle.\")\n",
    "\n",
    "Line segment $\\overline{BC}$ forms the hypoteneus of a new circle that when intersecting with the unit circle intersects at points $C$ and $D$ which describe one side of the pentagon.\n",
    "\n",
    "Let's list what is known.\n",
    "\n",
    "$\\angle{BAC} = \\frac{2\\pi}{10} = \\frac{\\pi}{5}$\n",
    "\n",
    "$\\angle{ABC} = \\angle{ACB}$\n",
    "\n",
    "$\\pi = \\angle{BAC} + \\angle{ABC} + \\angle{ACB}$\n",
    "\n",
    "$\\pi = \\frac{\\pi}{5} + 2\\angle{ABC}$\n",
    "\n",
    "$2\\angle{ABC} = \\pi - \\frac{\\pi}{5}$\n",
    "\n",
    "$2\\angle{ABC} = \\frac{4\\pi}{5}$\n",
    "\n",
    "$\\angle{ABC} = \\frac{2\\pi}{5} or 72^\\circ$\n",
    "\n",
    "$\\angle{BEC} = \\frac{\\pi}{2} or 90^\\circ$"
   ]
  },
  {
   "cell_type": "markdown",
   "metadata": {},
   "source": [
    "![Overlapping circle](assets/images/euclidthegame/intuition_3.png \"Overlapping circle\")\n",
    "\n",
    "To draw the circle, we need to find a line the same length is $\\overline{BC}$ elsewhere within the circle. To do this, we need to know the length of $\\overline{BC}$.\n",
    "\n",
    "$\\overline{AB} = 1$\n",
    "\n",
    "$\\overline{AC} = 1$\n",
    "\n",
    "$\\angle{BAC} = \\frac{\\pi}{5}$\n",
    "\n",
    "Law of cosines\n",
    "\n",
    "$\\overline{BC}^2 = \\overline{AB}^2 + \\overline{AC}^2 - 2(\\overline{AB})(\\overline{AC})\\cos{\\angle{BAC}}$\n",
    "\n",
    "$\\overline{BC}^2 = (1)^2 + (1)^2 - 2(1)(1)\\cos{\\frac{\\pi}{5}}$\n",
    "\n",
    "$\\overline{BC}^2 = 1 + 1 - 2\\cos{\\frac{\\pi}{5}}$\n",
    "\n",
    "$\\overline{BC}^2 = 2 - 2\\cos{\\frac{\\pi}{5}}$\n",
    "\n",
    "$\\overline{BC}^2 = 2 - 2(\\frac{1}{4}(1+\\sqrt{5}))$\n",
    "\n",
    "$\\overline{BC}^2 = 2 - \\frac{1}{2}(1+\\sqrt{5})$\n",
    "\n",
    "$\\overline{BC}^2 = 2 - \\frac{1+\\sqrt{5}}{2}\n",
    "= 2 + \\frac{-1-\\sqrt{5}}{2}\n",
    "= \\frac{4}{2} + \\frac{-1-\\sqrt{5}}{2}\n",
    "= \\frac{4-1-\\sqrt{5}}{2}\n",
    "= \\frac{3-\\sqrt{5}}{2}\n",
    "= \\frac{6-2\\sqrt{5}}{4}\n",
    "= \\frac{1+5-2\\sqrt{5}}{4}\n",
    "= \\frac{1+\\sqrt{5}^2-2\\sqrt{5}}{4}\n",
    "= \\frac{\\sqrt{5}^2-2\\sqrt{5}+1}{4}\n",
    "= \\frac{(\\sqrt{5}-1)(\\sqrt{5}-1)}{4}\n",
    "= \\frac{(\\sqrt{5}-1)^2}{4}\n",
    "$\n",
    "\n",
    "$\n",
    "\\overline{BC} = \\sqrt{\\frac{(\\sqrt{5}-1)^2}{4}}\n",
    "= \\frac{\\sqrt{5}-1}{2}\n",
    "$"
   ]
  },
  {
   "cell_type": "markdown",
   "metadata": {},
   "source": [
    "In order to move forward, we need to geometrically find $\\frac{\\sqrt{5}-1}{2}$ but there is no perfect place to find that. However, to get square root of 5 shouldn't be a problem using pythagoreans theorem. Consider that $a^2 + b^2 = c^2$ or $c = \\sqrt{a^2 + b^2}$. So we only need two numbers that when they are squared add up to 5 to get $\\sqrt{5}$. So the obvious choice is of course a triangle with sides 1 and 2 in length.\n",
    "\n",
    "$c = \\sqrt{1^2 + 2^2} = \\sqrt{1 + 4} = \\sqrt{5}$\n",
    "\n",
    "We can not find an example of a triangle with a side with a length of 2 anywhere within this circle with the tools we have available to us. We can however find a similar triangle at half the scale.\n",
    "\n",
    "![Finding a root of 5](assets/images/euclidthegame/intuition_4.png \"Finding a root of 5\")\n",
    "\n",
    "By taking the midpoint of line segment $\\overline{AB}$ which has a length of 1, the new line segment has a length of $\\frac{1}{2}$. Therefore instead of a triangle with sides $1$, $2$, $\\sqrt{5}$. We have a triangle with the sides $1$, $\\frac{1}{2}$, and $\\frac{\\sqrt{5}}{2}$\n",
    "\n",
    "Conveniently enough, we have an optimal solution to the problem at this point even if it's not obvious. We weren't looking for $\\sqrt{5}$ specifically. \n",
    "\n",
    "Instead, we were looking for $\\frac{\\sqrt{5}-1}{2}$ which is of course equal to $\\frac{\\sqrt{5}}{2}-\\frac{1}{2}$. \n"
   ]
  },
  {
   "cell_type": "markdown",
   "metadata": {},
   "source": [
    "![A circle with radius EF](assets/images/euclidthegame/intuition_5.png \"A circle with radius EF\")\n",
    "\n",
    "We're getting really close. We need a reference line equal to $\\frac{\\sqrt{5}}{2}-\\frac{1}{2}$ however, all we have so far is a line segment $\\overline{EF}$ with a length of $\\frac{\\sqrt{5}}{2}$.\n",
    "\n",
    "At this point, it is clear that the radius we want already exists from point $B$ in the positive X direction to the intersection of the circle. And this would be satisfactory for solving problem 23 in \"Euler - The Game\". But we should finish the proof since we're so close and all we need is some way of subtracting $\\frac{1}{2}$ from $\\frac{\\sqrt{5}}{2}$ geometrically."
   ]
  },
  {
   "cell_type": "markdown",
   "metadata": {},
   "source": [
    "![Subtracting the half](assets/images/euclidthegame/intuition_6.png \"Subtracting the half\")\n",
    "\n",
    "Finding the half wasn't difficult since the length of $\\overline{AE}$ was specifically made to be $\\frac{1}{2}$ as per the requirements of the triangle we made.\n",
    "\n",
    "So, the x-axis has already done the subtraction for us as $\\left\\lvert\\overline{AG}\\right\\lvert$ is precisely the $\\frac{\\sqrt{5}}{2}-\\frac{1}{2}$ we have been looking for.\n",
    "\n",
    "So, drawing a circle with a radius $\\overline{AG}$ will produce the absolute exact result as drawing a circle with length $\\overline{BC}$ as $\\overline{AG} = \\overline{BC}$."
   ]
  },
  {
   "cell_type": "markdown",
   "metadata": {},
   "source": [
    "Finally, the the pentagon can be drawn simply by making a flower pattern of circles with radius $\\overline{CD}$ around the edge of the circle to form the points of the pentagon where the circles intersect.\n",
    "\n",
    "![The finished product](assets/images/euclidthegame/intuition_7.png \"The finished product\")"
   ]
  }
 ],
 "metadata": {
  "kernelspec": {
   "display_name": "Python 3",
   "language": "python",
   "name": "python3"
  },
  "language_info": {
   "codemirror_mode": {
    "name": "ipython",
    "version": 3
   },
   "file_extension": ".py",
   "mimetype": "text/x-python",
   "name": "python",
   "nbconvert_exporter": "python",
   "pygments_lexer": "ipython3",
   "version": "3.7.6"
  }
 },
 "nbformat": 4,
 "nbformat_minor": 4
}
