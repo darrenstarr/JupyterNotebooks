{
 "cells": [
  {
   "cell_type": "code",
   "execution_count": 3,
   "metadata": {},
   "outputs": [
    {
     "output_type": "execute_result",
     "data": {
      "text/plain": "<IPython.core.display.HTML object>",
      "text/html": "<script>\ncode_show=true; \nfunction code_toggle() {\n if (code_show){\n $('div.input').hide();\n } else {\n $('div.input').show();\n }\n code_show = !code_show\n} \n$( document ).ready(code_toggle);\n</script>\n<form action=\"javascript:code_toggle()\"><input type=\"submit\" value=\"Click here to toggle on/off the raw code.\"></form>"
     },
     "metadata": {},
     "execution_count": 3
    }
   ],
   "source": [
    "from IPython.display import HTML\n",
    "\n",
    "HTML('''<script>\n",
    "code_show=true; \n",
    "function code_toggle() {\n",
    " if (code_show){\n",
    " $('div.input').hide();\n",
    " } else {\n",
    " $('div.input').show();\n",
    " }\n",
    " code_show = !code_show\n",
    "} \n",
    "$( document ).ready(code_toggle);\n",
    "</script>\n",
    "<form action=\"javascript:code_toggle()\"><input type=\"submit\" value=\"Click here to toggle on/off the raw code.\"></form>''')"
   ]
  },
  {
   "cell_type": "code",
   "execution_count": null,
   "metadata": {},
   "outputs": [],
   "source": []
  },
  {
   "cell_type": "markdown",
   "metadata": {},
   "source": [
    "# Solving the nearest point on curve problem\n",
    "\n",
    "A Jupyter Notebook description of the article published in Graphic Gems by Andrew S. Glassner. Contributions from Philip J. Schneider, the University of Geneva.\n",
    "\n",
    "by Darren R. Starr\n",
    "\n",
    "## Introduction\n",
    "\n",
    "This is an attempt to describe mathematically and in code the algorithm presented by Philip J. Schneider in the book [Graphic Gems](http://www.realtimerendering.com/resources/GraphicsGems/) in 1990.\n",
    "\n",
    "I've been using this algorithm for years without really understanding how it worked. I've become quite obsessed with Bezier curves because of it. Now, after watching nearly 2,000 videos on [Khan Academy](http://khanacademy.org) as well as drinking more than a few coffees with physicists, I find the algorithm to be quite simple to understand. Or course, when I was just a lowly programmer rather than a mathematics geek, it was really confusing. I'm hoping I can dumb the algorithm down to a level even I could have understood a few years ago.\n",
    "\n",
    "While writing, I will attempt to explain the math. Most of it is actually basic algebra as any kid could have/should have learned by the 10th grade. Some of it requires understanding a little trigonometry. And the core ability to understand it requires knowing what a derivative is and there's even a dirty trick or two thrown in from linear algebra.\n",
    "\n",
    "If you don't know what a derivative is... or you just really like watching incredibly brilliant women teach advanced math in a way that even a moron should understand, check out [NancyPi at Youtube](https://www.youtube.com/watch?v=-ktrtzYVk_I), in 15 minutes you'll be like \"wow... I didn't think it was that simple\".\n",
    "\n",
    "As for the linear algebra. If you ever learned in trig that\n",
    "\n",
    "![law of cosines](lawofcosines.png)\n",
    "\n",
    "$$ c^2 = a^2 + b^2 - 2ac\\cos{\\theta}$$\n",
    "\n",
    "\n",
    "## Description of the algorithm\n",
    "\n",
    "The algorithm itself depends on understanding that a line drawn from a given point, directly to the nearest point on a curve will be precisely 90 degrees (the normal) relative to the tangent of the curve at the point where it meets.\n",
    "\n",
    "TODO: Insert graphics here showing this fact\n",
    "\n",
    "It's also important to realize that it's not actually guaranteed that there is only a single point which is closest.\n",
    "\n",
    "Consider if you were to draw a quarter of a circle which is easily represented by a Bezier curve. Now find the shortest distance from the center of the circle to the curve.\n",
    "\n",
    "TODO: Insert graphic here showing this fact\n",
    "\n",
    "The number of possible \"shortest points in this case is actually infinite. Therefore, any point is as good as another... or maybe all points are wrong as there is no shortest point. This depends on your specific need to find it.\n",
    "\n",
    "For that fact, maybe the result of the shortest distance to the curve should be represented as a list of ranges along the curve.\n",
    "\n",
    "For the purpose of the book as well as this article, we will represent the solution as follows:\n",
    "\n",
    "$$[Q(t) - P] \\cdot{Q'(t)} = 0$$"
   ]
  }
 ],
 "metadata": {
  "language_info": {
   "codemirror_mode": {
    "name": "ipython",
    "version": 3
   },
   "file_extension": ".py",
   "mimetype": "text/x-python",
   "name": "python",
   "nbconvert_exporter": "python",
   "pygments_lexer": "ipython3",
   "version": "3.8.2-final"
  },
  "orig_nbformat": 2,
  "kernelspec": {
   "name": "python38264bit8ca1e131a3ee41209c5127668d2cf3d7",
   "display_name": "Python 3.8.2 64-bit"
  }
 },
 "nbformat": 4,
 "nbformat_minor": 2
}