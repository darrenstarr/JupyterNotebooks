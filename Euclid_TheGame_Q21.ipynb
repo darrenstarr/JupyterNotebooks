{
 "cells": [
  {
   "cell_type": "markdown",
   "metadata": {},
   "source": [
    "# Proof of Euclid - The Game Question 21\n",
    "\n",
    "by Darren R. Starr\n",
    "\n",
    "The content of this document refers to [Euclid: The Game - Level 21](https://kasperpeulen.github.io/Level21/)\n",
    "\n",
    "Please don't use this to cheat. Instead, use this document to understand.\n",
    "\n",
    "## Introduction\n",
    "\n",
    "This is a classic engineering example. In fact, I think it was one of my favorites ever which truly taught me why I love using a compass so much. With nothing more than a compass and a straight edge, it's possible to calculate the tangent of a circle from any given point.\n",
    "\n",
    "I'm going to approach this as a proof rather than as a simple answer to the problem."
   ]
  },
  {
   "cell_type": "markdown",
   "metadata": {},
   "source": [
    "![The problem](assets/images/euclidthegame/level21_1.png \"The problem\")\n"
   ]
  },
  {
   "cell_type": "markdown",
   "metadata": {},
   "source": [
    "Starting with a unit circle at the origin on point $A$ and another point $3$ away in the positive X direction marked $B$, we need to compute the tangent points upon the circle.\n",
    "\n",
    "The definition of a tangent of a circle is a when a line touches the edge of a circle once and only once. For this to occur, the tangent of a circle must form an angle perpendicular to the radius formed at the point where it touches the circle. Any tilt in either direction will overlap the circle and cause more than one point of contact.\n",
    "\n",
    "![Tangent is a right angle](assets/images/euclidthegame/level21_2.png \"Tangent is a right angle\")\n",
    "\n",
    "As such, the triangle formed from the point to the center of the circle to the tangent point is a right triangle. In this diagram\n",
    "\n",
    "$\\angle{ACB} = 90$ or $\\angle{ACB} = \\frac{\\pi}{2}$\n",
    "\n",
    "\n"
   ]
  },
  {
   "cell_type": "markdown",
   "metadata": {},
   "source": [
    "![Similar triangles](assets/images/euclidthegame/level21_3.png \"similar triangles\")\n",
    "\n",
    "Applying the [Geometric means theorem](https://en.wikipedia.org/wiki/Geometric_mean_theorem) as is described by [Sal Khan](https://www.khanacademy.org/math/geometry/hs-geo-similarity/hs-geo-solving-similar-triangles/v/similarity-example-where-same-side-plays-different-roles), we know that $\\triangle{ABC}\\sim\\triangle{ACD}\\sim\\triangle{BCD}$ (or or without the fancy symbol, we know they're similar).\n",
    "\n",
    "To spell it out a bit, we know that\n",
    "\n",
    "$\\angle{CAD} = 90^\\circ - \\angle{ACD}$\n",
    "\n",
    "$\\angle{BCD} = 90^\\circ - \\angle{ACD}$\n",
    "\n",
    "$\\angle{CBD} = 90^\\circ - \\angle{BCD}$\n",
    "\n",
    "As such\n",
    "\n",
    "$\\angle{CAD}=\\angle{BCD}$\n",
    "\n",
    "$\\angle{ACD}=\\angle{CBD}$"
   ]
  },
  {
   "cell_type": "markdown",
   "metadata": {},
   "source": [
    "![Circle at midpoint](assets/images/euclidthegame/level21_4.png \"Circle at midpoint\")\n",
    "\n",
    "If a circle is drawn on the midpoint of segment $\\overline{AB}$, intuition tells us that the circle passes through four points. The center of the unit circle (point $A$), the point we'll calculate the tangent from (point $B$) and the two tangents. This is true, but we have not proven it yet.\n",
    "\n",
    "Consider triangle $\\triangle{BCE}$ it is an isosceles triangle since $\\overline{BE}$ and $\\overline{CE}$ are each precisely one half the length of $\\overline{AB}$.\n",
    "\n",
    "We also know \n",
    "\n",
    "$\\angle{BCE}=\\angle{CBE}$\n",
    "\n",
    "$\\angle{BEC} + \\angle{BCE} + \\angle{CBE} = 180^\\circ$\n",
    "\n",
    "$\\angle{BEC} = 180^\\circ - 2\\angle{CBE}$\n",
    "\n",
    "$\\angle{AEC} = 180^\\circ - \\angle{BEC}$\n",
    "\n",
    "$\\angle{AEC} = 180^\\circ - 180^\\circ - 2\\angle{CBE}$\n",
    "\n",
    "$\\angle{AEC} = -2\\angle{CBE}$\n",
    "\n",
    "But since we're only working with positive angles\n",
    "\n",
    "$\\angle{AEC} = 2\\angle{CBE}$\n",
    "\n",
    "The above is proven by the [inscribe angle theorem](https://en.wikipedia.org/wiki/Geometric_mean_theorem) as shown by [Sal Khan](https://www.khanacademy.org/math/geometry/hs-geo-circles/hs-geo-inscribed-angles/v/inscribed-and-central-angles)\n",
    "\n",
    "$\\angle{DCE} = 90^\\circ - \\angle{CED} = 90^\\circ - \\angle{AEC} = 90^\\circ - 2\\angle{CBE}$\n",
    "\n",
    "$\\angle{BCE} = \\angle{ACD} = \\angle{CBE}$\n",
    "\n",
    "$\\angle{ACB} = 90^\\circ$\n",
    "\n",
    "$\\angle{ACB} = \\angle{ACD} + \\angle{DCE} + \\angle{BCE}$\n",
    "\n",
    "Translate the values into terms of $\\angle{CBE}$\n",
    "\n",
    "$90^\\circ = \\angle{CBE} + (90^\\circ - 2\\angle{CBE}) + \\angle{CBE}$\n",
    "\n",
    "$90^\\circ = \\angle{CBE} + 90^\\circ - 2\\angle{CBE} + \\angle{CBE}$\n",
    "\n",
    "$90^\\circ = 90^\\circ$\n",
    "\n",
    "That's it... we've proven that a circle drawn on the midpoint of segment $\\overline{AB}$ with a diameter of $\\overline{AB}$ will intersect the circle at the two tangent points relative to point $B$."
   ]
  },
  {
   "cell_type": "markdown",
   "metadata": {},
   "source": []
  }
 ],
 "metadata": {
  "kernelspec": {
   "display_name": "Python 3",
   "language": "python",
   "name": "python3"
  },
  "language_info": {
   "codemirror_mode": {
    "name": "ipython",
    "version": 3
   },
   "file_extension": ".py",
   "mimetype": "text/x-python",
   "name": "python",
   "nbconvert_exporter": "python",
   "pygments_lexer": "ipython3",
   "version": "3.7.6"
  }
 },
 "nbformat": 4,
 "nbformat_minor": 4
}
